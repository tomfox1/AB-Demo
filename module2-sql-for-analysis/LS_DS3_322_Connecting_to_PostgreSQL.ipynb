{
  "nbformat": 4,
  "nbformat_minor": 0,
  "metadata": {
    "colab": {
      "name": "LS DS3 322 - Connecting to PostgreSQL.ipynb",
      "version": "0.3.2",
      "provenance": [],
      "include_colab_link": true
    },
    "kernelspec": {
      "name": "python3",
      "display_name": "Python 3"
    }
  },
  "cells": [
    {
      "cell_type": "markdown",
      "metadata": {
        "id": "view-in-github",
        "colab_type": "text"
      },
      "source": [
        "<a href=\"https://colab.research.google.com/github/tomfox1/AB-Demo/blob/master/module2-sql-for-analysis/LS_DS3_322_Connecting_to_PostgreSQL.ipynb\" target=\"_parent\"><img src=\"https://colab.research.google.com/assets/colab-badge.svg\" alt=\"Open In Colab\"/></a>"
      ]
    },
    {
      "cell_type": "code",
      "metadata": {
        "id": "QraDuCJWUrKu",
        "colab_type": "code",
        "outputId": "59bdd7c3-5eb2-4f60-840a-fb3d98209853",
        "colab": {
          "base_uri": "https://localhost:8080/",
          "height": 124
        }
      },
      "source": [
        "!pip install psycopg2-binary"
      ],
      "execution_count": 0,
      "outputs": [
        {
          "output_type": "stream",
          "text": [
            "Collecting psycopg2-binary\n",
            "\u001b[?25l  Downloading https://files.pythonhosted.org/packages/e9/6e/f2ea78572ab734fb18b35e7ac6805d7889bdfe0fa00b188c4a5f0cb3e6e1/psycopg2_binary-2.8.2-cp36-cp36m-manylinux1_x86_64.whl (2.9MB)\n",
            "\u001b[K     |████████████████████████████████| 2.9MB 5.0MB/s \n",
            "\u001b[?25hInstalling collected packages: psycopg2-binary\n",
            "Successfully installed psycopg2-binary-2.8.2\n"
          ],
          "name": "stdout"
        }
      ]
    },
    {
      "cell_type": "code",
      "metadata": {
        "id": "Qm6ZdWMOVz_-",
        "colab_type": "code",
        "colab": {}
      },
      "source": [
        "import psycopg2"
      ],
      "execution_count": 0,
      "outputs": []
    },
    {
      "cell_type": "code",
      "metadata": {
        "id": "dyCj3AT5WtlS",
        "colab_type": "code",
        "outputId": "9dc4fa99-7ea4-4602-8998-53c9cde237ec",
        "colab": {
          "base_uri": "https://localhost:8080/",
          "height": 816
        }
      },
      "source": [
        "dir(psycopg2)"
      ],
      "execution_count": 0,
      "outputs": [
        {
          "output_type": "execute_result",
          "data": {
            "text/plain": [
              "['BINARY',\n",
              " 'Binary',\n",
              " 'DATETIME',\n",
              " 'DataError',\n",
              " 'DatabaseError',\n",
              " 'Date',\n",
              " 'DateFromTicks',\n",
              " 'Error',\n",
              " 'IntegrityError',\n",
              " 'InterfaceError',\n",
              " 'InternalError',\n",
              " 'NUMBER',\n",
              " 'NotSupportedError',\n",
              " 'OperationalError',\n",
              " 'ProgrammingError',\n",
              " 'ROWID',\n",
              " 'STRING',\n",
              " 'Time',\n",
              " 'TimeFromTicks',\n",
              " 'Timestamp',\n",
              " 'TimestampFromTicks',\n",
              " 'Warning',\n",
              " '__builtins__',\n",
              " '__cached__',\n",
              " '__doc__',\n",
              " '__file__',\n",
              " '__libpq_version__',\n",
              " '__loader__',\n",
              " '__name__',\n",
              " '__package__',\n",
              " '__path__',\n",
              " '__spec__',\n",
              " '__version__',\n",
              " '_connect',\n",
              " '_ext',\n",
              " '_json',\n",
              " '_psycopg',\n",
              " '_range',\n",
              " 'apilevel',\n",
              " 'compat',\n",
              " 'connect',\n",
              " 'errors',\n",
              " 'extensions',\n",
              " 'paramstyle',\n",
              " 'threadsafety',\n",
              " 'tz']"
            ]
          },
          "metadata": {
            "tags": []
          },
          "execution_count": 3
        }
      ]
    },
    {
      "cell_type": "code",
      "metadata": {
        "id": "DJKrmkHYWuzL",
        "colab_type": "code",
        "outputId": "55ddb824-a53b-42ee-eb0c-6036b50b4fa4",
        "colab": {
          "base_uri": "https://localhost:8080/",
          "height": 625
        }
      },
      "source": [
        "help(psycopg2.connect)"
      ],
      "execution_count": 0,
      "outputs": [
        {
          "output_type": "stream",
          "text": [
            "Help on function connect in module psycopg2:\n",
            "\n",
            "connect(dsn=None, connection_factory=None, cursor_factory=None, **kwargs)\n",
            "    Create a new database connection.\n",
            "    \n",
            "    The connection parameters can be specified as a string:\n",
            "    \n",
            "        conn = psycopg2.connect(\"dbname=test user=postgres password=secret\")\n",
            "    \n",
            "    or using a set of keyword arguments:\n",
            "    \n",
            "        conn = psycopg2.connect(database=\"test\", user=\"postgres\", password=\"secret\")\n",
            "    \n",
            "    Or as a mix of both. The basic connection parameters are:\n",
            "    \n",
            "    - *dbname*: the database name\n",
            "    - *database*: the database name (only as keyword argument)\n",
            "    - *user*: user name used to authenticate\n",
            "    - *password*: password used to authenticate\n",
            "    - *host*: database host address (defaults to UNIX socket if not provided)\n",
            "    - *port*: connection port number (defaults to 5432 if not provided)\n",
            "    \n",
            "    Using the *connection_factory* parameter a different class or connections\n",
            "    factory can be specified. It should be a callable object taking a dsn\n",
            "    argument.\n",
            "    \n",
            "    Using the *cursor_factory* parameter, a new default cursor factory will be\n",
            "    used by cursor().\n",
            "    \n",
            "    Using *async*=True an asynchronous connection will be created. *async_* is\n",
            "    a valid alias (for Python versions where ``async`` is a keyword).\n",
            "    \n",
            "    Any other keyword parameter will be passed to the underlying client\n",
            "    library: the list of supported parameters depends on the library version.\n",
            "\n"
          ],
          "name": "stdout"
        }
      ]
    },
    {
      "cell_type": "code",
      "metadata": {
        "id": "hILhoT93W3tu",
        "colab_type": "code",
        "colab": {}
      },
      "source": [
        "dbname = 'poeyrxwf'\n",
        "user = 'poeyrxwf'\n",
        "password = 'QL6BHy8rm6p3NefQh95GdogJ0wn3xPwP'  # Don't commit this!\n",
        "host = 'raja.db.elephantsql.com'"
      ],
      "execution_count": 0,
      "outputs": []
    },
    {
      "cell_type": "code",
      "metadata": {
        "id": "MzFv3dlaXtG6",
        "colab_type": "code",
        "colab": {}
      },
      "source": [
        "pg_conn = psycopg2.connect(dbname=dbname, user=user,\n",
        "                           password=password, host=host)"
      ],
      "execution_count": 0,
      "outputs": []
    },
    {
      "cell_type": "code",
      "metadata": {
        "id": "PLpbWTasX02m",
        "colab_type": "code",
        "outputId": "a28e4dab-bf6c-440f-fb4b-ade97a48726c",
        "colab": {
          "base_uri": "https://localhost:8080/",
          "height": 54
        }
      },
      "source": [
        "pg_conn"
      ],
      "execution_count": 0,
      "outputs": [
        {
          "output_type": "execute_result",
          "data": {
            "text/plain": [
              "<connection object at 0x7f7d400368d0; dsn: 'user=poeyrxwf password=xxx dbname=poeyrxwf host=raja.db.elephantsql.com', closed: 0>"
            ]
          },
          "metadata": {
            "tags": []
          },
          "execution_count": 7
        }
      ]
    },
    {
      "cell_type": "code",
      "metadata": {
        "id": "q8FuXl12X13o",
        "colab_type": "code",
        "colab": {}
      },
      "source": [
        "pg_curs = pg_conn.cursor()"
      ],
      "execution_count": 0,
      "outputs": []
    },
    {
      "cell_type": "code",
      "metadata": {
        "id": "H4AOezPYYUMK",
        "colab_type": "code",
        "outputId": "48704331-77a0-4b2b-e322-f275a7f50907",
        "colab": {
          "base_uri": "https://localhost:8080/",
          "height": 52
        }
      },
      "source": [
        "pg_curs.execute('SELECT * FROM test_table;')\n",
        "pg_curs.fetchall()"
      ],
      "execution_count": 0,
      "outputs": [
        {
          "output_type": "execute_result",
          "data": {
            "text/plain": [
              "[(1, 'A row name', None),\n",
              " (2, 'Another row, with JSON', {'a': 1, 'b': ['dog', 'cat', 42], 'c': True})]"
            ]
          },
          "metadata": {
            "tags": []
          },
          "execution_count": 9
        }
      ]
    },
    {
      "cell_type": "code",
      "metadata": {
        "id": "7idjdrS9YdT8",
        "colab_type": "code",
        "outputId": "dabfe087-1771-4272-acf6-331483d32bd8",
        "colab": {
          "base_uri": "https://localhost:8080/",
          "height": 384
        }
      },
      "source": [
        "!wget https://github.com/LambdaSchool/DS-Unit-3-Sprint-2-SQL-and-Databases/blob/master/module1-introduction-to-sql/rpg_db.sqlite3?raw=true"
      ],
      "execution_count": 0,
      "outputs": [
        {
          "output_type": "stream",
          "text": [
            "--2019-06-04 16:46:30--  https://github.com/LambdaSchool/DS-Unit-3-Sprint-2-SQL-and-Databases/blob/master/module1-introduction-to-sql/rpg_db.sqlite3?raw=true\n",
            "Resolving github.com (github.com)... 192.30.255.113\n",
            "Connecting to github.com (github.com)|192.30.255.113|:443... connected.\n",
            "HTTP request sent, awaiting response... 302 Found\n",
            "Location: https://github.com/LambdaSchool/DS-Unit-3-Sprint-2-SQL-and-Databases/raw/master/module1-introduction-to-sql/rpg_db.sqlite3 [following]\n",
            "--2019-06-04 16:46:30--  https://github.com/LambdaSchool/DS-Unit-3-Sprint-2-SQL-and-Databases/raw/master/module1-introduction-to-sql/rpg_db.sqlite3\n",
            "Reusing existing connection to github.com:443.\n",
            "HTTP request sent, awaiting response... 302 Found\n",
            "Location: https://raw.githubusercontent.com/LambdaSchool/DS-Unit-3-Sprint-2-SQL-and-Databases/master/module1-introduction-to-sql/rpg_db.sqlite3 [following]\n",
            "--2019-06-04 16:46:30--  https://raw.githubusercontent.com/LambdaSchool/DS-Unit-3-Sprint-2-SQL-and-Databases/master/module1-introduction-to-sql/rpg_db.sqlite3\n",
            "Resolving raw.githubusercontent.com (raw.githubusercontent.com)... 151.101.0.133, 151.101.64.133, 151.101.128.133, ...\n",
            "Connecting to raw.githubusercontent.com (raw.githubusercontent.com)|151.101.0.133|:443... connected.\n",
            "HTTP request sent, awaiting response... 200 OK\n",
            "Length: 253952 (248K) [application/octet-stream]\n",
            "Saving to: ‘rpg_db.sqlite3?raw=true’\n",
            "\n",
            "rpg_db.sqlite3?raw= 100%[===================>] 248.00K  --.-KB/s    in 0.03s   \n",
            "\n",
            "2019-06-04 16:46:31 (8.56 MB/s) - ‘rpg_db.sqlite3?raw=true’ saved [253952/253952]\n",
            "\n"
          ],
          "name": "stdout"
        }
      ]
    },
    {
      "cell_type": "code",
      "metadata": {
        "id": "mJTr2hyGYo1Q",
        "colab_type": "code",
        "colab": {}
      },
      "source": [
        "!mv 'rpg_db.sqlite3?raw=true' rpg_db.sqlite3"
      ],
      "execution_count": 0,
      "outputs": []
    },
    {
      "cell_type": "code",
      "metadata": {
        "id": "k32ZtgLkYsJ7",
        "colab_type": "code",
        "colab": {}
      },
      "source": [
        "import sqlite3\n",
        "sl_conn = sqlite3.connect('rpg_db.sqlite3')\n",
        "sl_curs = sl_conn.cursor()"
      ],
      "execution_count": 0,
      "outputs": []
    },
    {
      "cell_type": "code",
      "metadata": {
        "id": "jJC6R70UZbmR",
        "colab_type": "code",
        "outputId": "08d20466-ece8-4bfa-a1f9-d0df45c87372",
        "colab": {
          "base_uri": "https://localhost:8080/",
          "height": 34
        }
      },
      "source": [
        "sl_curs.execute('SELECT COUNT(*) FROM charactercreator_character;').fetchall()"
      ],
      "execution_count": 0,
      "outputs": [
        {
          "output_type": "execute_result",
          "data": {
            "text/plain": [
              "[(302,)]"
            ]
          },
          "metadata": {
            "tags": []
          },
          "execution_count": 13
        }
      ]
    },
    {
      "cell_type": "code",
      "metadata": {
        "id": "btz8CgMrZf_U",
        "colab_type": "code",
        "colab": {}
      },
      "source": [
        "# Our goal - an ETL/data pipeline\n",
        "# Get the character data from SQLite to PostgreSQL!\n",
        "# Where should I start?"
      ],
      "execution_count": 0,
      "outputs": []
    },
    {
      "cell_type": "code",
      "metadata": {
        "id": "Cb_DvBRvbgCM",
        "colab_type": "code",
        "outputId": "f92cce1c-0fe0-40cc-be2f-33129b35ce58",
        "colab": {
          "base_uri": "https://localhost:8080/",
          "height": 1511
        }
      },
      "source": [
        "dir(sqlite3)"
      ],
      "execution_count": 0,
      "outputs": [
        {
          "output_type": "execute_result",
          "data": {
            "text/plain": [
              "['Binary',\n",
              " 'Cache',\n",
              " 'Connection',\n",
              " 'Cursor',\n",
              " 'DataError',\n",
              " 'DatabaseError',\n",
              " 'Date',\n",
              " 'DateFromTicks',\n",
              " 'Error',\n",
              " 'IntegrityError',\n",
              " 'InterfaceError',\n",
              " 'InternalError',\n",
              " 'NotSupportedError',\n",
              " 'OperationalError',\n",
              " 'OptimizedUnicode',\n",
              " 'PARSE_COLNAMES',\n",
              " 'PARSE_DECLTYPES',\n",
              " 'PrepareProtocol',\n",
              " 'ProgrammingError',\n",
              " 'Row',\n",
              " 'SQLITE_ALTER_TABLE',\n",
              " 'SQLITE_ANALYZE',\n",
              " 'SQLITE_ATTACH',\n",
              " 'SQLITE_CREATE_INDEX',\n",
              " 'SQLITE_CREATE_TABLE',\n",
              " 'SQLITE_CREATE_TEMP_INDEX',\n",
              " 'SQLITE_CREATE_TEMP_TABLE',\n",
              " 'SQLITE_CREATE_TEMP_TRIGGER',\n",
              " 'SQLITE_CREATE_TEMP_VIEW',\n",
              " 'SQLITE_CREATE_TRIGGER',\n",
              " 'SQLITE_CREATE_VIEW',\n",
              " 'SQLITE_DELETE',\n",
              " 'SQLITE_DENY',\n",
              " 'SQLITE_DETACH',\n",
              " 'SQLITE_DROP_INDEX',\n",
              " 'SQLITE_DROP_TABLE',\n",
              " 'SQLITE_DROP_TEMP_INDEX',\n",
              " 'SQLITE_DROP_TEMP_TABLE',\n",
              " 'SQLITE_DROP_TEMP_TRIGGER',\n",
              " 'SQLITE_DROP_TEMP_VIEW',\n",
              " 'SQLITE_DROP_TRIGGER',\n",
              " 'SQLITE_DROP_VIEW',\n",
              " 'SQLITE_IGNORE',\n",
              " 'SQLITE_INSERT',\n",
              " 'SQLITE_OK',\n",
              " 'SQLITE_PRAGMA',\n",
              " 'SQLITE_READ',\n",
              " 'SQLITE_REINDEX',\n",
              " 'SQLITE_SELECT',\n",
              " 'SQLITE_TRANSACTION',\n",
              " 'SQLITE_UPDATE',\n",
              " 'Statement',\n",
              " 'Time',\n",
              " 'TimeFromTicks',\n",
              " 'Timestamp',\n",
              " 'TimestampFromTicks',\n",
              " 'Warning',\n",
              " '__builtins__',\n",
              " '__cached__',\n",
              " '__doc__',\n",
              " '__file__',\n",
              " '__loader__',\n",
              " '__name__',\n",
              " '__package__',\n",
              " '__path__',\n",
              " '__spec__',\n",
              " 'adapt',\n",
              " 'adapters',\n",
              " 'apilevel',\n",
              " 'collections',\n",
              " 'complete_statement',\n",
              " 'connect',\n",
              " 'converters',\n",
              " 'datetime',\n",
              " 'dbapi2',\n",
              " 'enable_callback_tracebacks',\n",
              " 'enable_shared_cache',\n",
              " 'paramstyle',\n",
              " 'register_adapter',\n",
              " 'register_converter',\n",
              " 'sqlite_version',\n",
              " 'sqlite_version_info',\n",
              " 'threadsafety',\n",
              " 'time',\n",
              " 'version',\n",
              " 'version_info']"
            ]
          },
          "metadata": {
            "tags": []
          },
          "execution_count": 14
        }
      ]
    },
    {
      "cell_type": "code",
      "metadata": {
        "id": "OI8VQa5MbhyY",
        "colab_type": "code",
        "colab": {}
      },
      "source": [
        "characters = sl_curs.execute('SELECT * FROM charactercreator_character;').fetchall()"
      ],
      "execution_count": 0,
      "outputs": []
    },
    {
      "cell_type": "code",
      "metadata": {
        "id": "fg7MBcSHb2ea",
        "colab_type": "code",
        "outputId": "230ab6a4-1969-4b55-c566-c9f9122913cb",
        "colab": {
          "base_uri": "https://localhost:8080/",
          "height": 34
        }
      },
      "source": [
        "len(characters)"
      ],
      "execution_count": 0,
      "outputs": [
        {
          "output_type": "execute_result",
          "data": {
            "text/plain": [
              "302"
            ]
          },
          "metadata": {
            "tags": []
          },
          "execution_count": 16
        }
      ]
    },
    {
      "cell_type": "code",
      "metadata": {
        "id": "a4giFrRXb6dg",
        "colab_type": "code",
        "outputId": "ee875e35-4f74-4766-9410-ae315e43b933",
        "colab": {
          "base_uri": "https://localhost:8080/",
          "height": 34
        }
      },
      "source": [
        "characters[0]"
      ],
      "execution_count": 0,
      "outputs": [
        {
          "output_type": "execute_result",
          "data": {
            "text/plain": [
              "(1, 'Aliquid iste optio reiciendi', 0, 0, 10, 1, 1, 1, 1)"
            ]
          },
          "metadata": {
            "tags": []
          },
          "execution_count": 17
        }
      ]
    },
    {
      "cell_type": "code",
      "metadata": {
        "id": "LSMZsHVIb7bL",
        "colab_type": "code",
        "outputId": "a668cca1-1929-435f-f2af-bf77dbfe9e07",
        "colab": {
          "base_uri": "https://localhost:8080/",
          "height": 34
        }
      },
      "source": [
        "characters[-1]"
      ],
      "execution_count": 0,
      "outputs": [
        {
          "output_type": "execute_result",
          "data": {
            "text/plain": [
              "(302, 'Aliquam n', 0, 0, 10, 1, 1, 1, 1)"
            ]
          },
          "metadata": {
            "tags": []
          },
          "execution_count": 18
        }
      ]
    },
    {
      "cell_type": "markdown",
      "metadata": {
        "id": "f5FH514cdhP6",
        "colab_type": "text"
      },
      "source": [
        "```python\n",
        "class Character(models.Model):\n",
        "    \"\"\"Base representation of RPG characters.\"\"\"\n",
        "    character_id = models.AutoField(primary_key=True)\n",
        "    name = models.CharField(\"Character's name\", max_length=30)\n",
        "    level = models.IntegerField(default=0)\n",
        "    exp = models.IntegerField(default=0)\n",
        "    hp = models.IntegerField(default=10)\n",
        "    strength = models.IntegerField(default=1)\n",
        "    intelligence = models.IntegerField(default=1)\n",
        "    dexterity = models.IntegerField(default=1)\n",
        "    wisdom = models.IntegerField(default=1)\n",
        "    inventory = models.ManyToManyField(Item, verbose_name=\"Items the character has\")\n",
        "```"
      ]
    },
    {
      "cell_type": "code",
      "metadata": {
        "id": "h9cS71zBcEss",
        "colab_type": "code",
        "colab": {}
      },
      "source": [
        "# We have the characters in local Python object\n",
        "# (Specifically, a list of tuples)\n",
        "# Next - CREATE TABLE in PostgreSQL\n",
        "# In other words - make the Character schema!\n",
        "\n",
        "create_character_table = \"\"\"\n",
        "CREATE TABLE charactercreator_character (\n",
        "  character_id SERIAL PRIMARY KEY,\n",
        "  name VARCHAR(30),\n",
        "  level INT,\n",
        "  exp INT,\n",
        "  hp INT,\n",
        "  strength INT,\n",
        "  intelligence INT,\n",
        "  dexterity INT,\n",
        "  wisdom INT\n",
        ")\n",
        "\"\"\""
      ],
      "execution_count": 0,
      "outputs": []
    },
    {
      "cell_type": "code",
      "metadata": {
        "id": "FYFyDQJ4ceUi",
        "colab_type": "code",
        "colab": {}
      },
      "source": [
        "pg_curs.execute(create_character_table)"
      ],
      "execution_count": 0,
      "outputs": []
    },
    {
      "cell_type": "code",
      "metadata": {
        "id": "iLO9CYnSfLKI",
        "colab_type": "code",
        "outputId": "791456ba-ac16-4893-ff42-44fdbba73360",
        "colab": {
          "base_uri": "https://localhost:8080/",
          "height": 34
        }
      },
      "source": [
        "characters[0]"
      ],
      "execution_count": 0,
      "outputs": [
        {
          "output_type": "execute_result",
          "data": {
            "text/plain": [
              "(1, 'Aliquid iste optio reiciendi', 0, 0, 10, 1, 1, 1, 1)"
            ]
          },
          "metadata": {
            "tags": []
          },
          "execution_count": 21
        }
      ]
    },
    {
      "cell_type": "code",
      "metadata": {
        "id": "LywFlpTufZq2",
        "colab_type": "code",
        "outputId": "35a3e9e9-45e1-4cab-a75c-c8584c8c60ec",
        "colab": {
          "base_uri": "https://localhost:8080/",
          "height": 34
        }
      },
      "source": [
        "str(characters[0])"
      ],
      "execution_count": 0,
      "outputs": [
        {
          "output_type": "execute_result",
          "data": {
            "text/plain": [
              "\"(1, 'Aliquid iste optio reiciendi', 0, 0, 10, 1, 1, 1, 1)\""
            ]
          },
          "metadata": {
            "tags": []
          },
          "execution_count": 22
        }
      ]
    },
    {
      "cell_type": "code",
      "metadata": {
        "id": "r_wVV42wfbMX",
        "colab_type": "code",
        "outputId": "7bf414c0-25c7-48fd-f58e-fa563dfacd78",
        "colab": {
          "base_uri": "https://localhost:8080/",
          "height": 54
        }
      },
      "source": [
        "attempted_insert = \"\"\"\n",
        "  INSERT INTO charactercreator_character\n",
        "  VALUES \"\"\" + str(characters[0])\n",
        "attempted_insert"
      ],
      "execution_count": 0,
      "outputs": [
        {
          "output_type": "execute_result",
          "data": {
            "text/plain": [
              "\"\\n  INSERT INTO charactercreator_character\\n  VALUES (1, 'Aliquid iste optio reiciendi', 0, 0, 10, 1, 1, 1, 1)\""
            ]
          },
          "metadata": {
            "tags": []
          },
          "execution_count": 23
        }
      ]
    },
    {
      "cell_type": "code",
      "metadata": {
        "id": "UzKXBYxHftjF",
        "colab_type": "code",
        "colab": {}
      },
      "source": [
        "pg_curs.execute(attempted_insert)"
      ],
      "execution_count": 0,
      "outputs": []
    },
    {
      "cell_type": "code",
      "metadata": {
        "id": "AbMbU4akgh-2",
        "colab_type": "code",
        "colab": {}
      },
      "source": [
        "pg_conn.commit()  # We need to \"save\" our work for the new table/data to show up"
      ],
      "execution_count": 0,
      "outputs": []
    },
    {
      "cell_type": "code",
      "metadata": {
        "id": "GpA9A6TpfyB0",
        "colab_type": "code",
        "colab": {}
      },
      "source": [
        "pg_curs = pg_conn.cursor()\n",
        "pg_curs.execute('SELECT * FROM charactercreator_character;')\n",
        "pg_characters = pg_curs.fetchall()"
      ],
      "execution_count": 0,
      "outputs": []
    },
    {
      "cell_type": "code",
      "metadata": {
        "id": "5hjNZZhaf5Gw",
        "colab_type": "code",
        "outputId": "a29443aa-9f4e-4693-bcea-c4377007a3fb",
        "colab": {
          "base_uri": "https://localhost:8080/",
          "height": 34
        }
      },
      "source": [
        "pg_characters[0]"
      ],
      "execution_count": 0,
      "outputs": [
        {
          "output_type": "execute_result",
          "data": {
            "text/plain": [
              "(1, 'Aliquid iste optio reiciendi', 0, 0, 10, 1, 1, 1, 1)"
            ]
          },
          "metadata": {
            "tags": []
          },
          "execution_count": 32
        }
      ]
    },
    {
      "cell_type": "code",
      "metadata": {
        "id": "YdB1B-Qgg4hd",
        "colab_type": "code",
        "outputId": "11ee0430-4b71-457b-cd93-4ef2d3427a6f",
        "colab": {
          "base_uri": "https://localhost:8080/",
          "height": 34
        }
      },
      "source": [
        "len(pg_characters)"
      ],
      "execution_count": 0,
      "outputs": [
        {
          "output_type": "execute_result",
          "data": {
            "text/plain": [
              "1"
            ]
          },
          "metadata": {
            "tags": []
          },
          "execution_count": 33
        }
      ]
    },
    {
      "cell_type": "code",
      "metadata": {
        "id": "ecIGuHDIg5fw",
        "colab_type": "code",
        "colab": {}
      },
      "source": [
        "# Let's insert the rest of the characters!\n",
        "for character in characters[1:]:\n",
        "  insert_character = \"\"\"\n",
        "  INSERT INTO charactercreator_character\n",
        "  VALUES \"\"\" + str(character)\n",
        "  pg_curs.execute(insert_character)\n",
        "pg_conn.commit()"
      ],
      "execution_count": 0,
      "outputs": []
    },
    {
      "cell_type": "code",
      "metadata": {
        "id": "gJIYnpHDh4kZ",
        "colab_type": "code",
        "colab": {}
      },
      "source": [
        "pg_curs = pg_conn.cursor()\n",
        "pg_curs.execute('SELECT * FROM charactercreator_character;')\n",
        "pg_characters = pg_curs.fetchall()"
      ],
      "execution_count": 0,
      "outputs": []
    },
    {
      "cell_type": "code",
      "metadata": {
        "id": "7WQgsNiViHu7",
        "colab_type": "code",
        "outputId": "3996b55f-b130-469c-9327-1f0714a4556a",
        "colab": {
          "base_uri": "https://localhost:8080/",
          "height": 34
        }
      },
      "source": [
        "len(pg_characters)"
      ],
      "execution_count": 0,
      "outputs": [
        {
          "output_type": "execute_result",
          "data": {
            "text/plain": [
              "302"
            ]
          },
          "metadata": {
            "tags": []
          },
          "execution_count": 36
        }
      ]
    },
    {
      "cell_type": "code",
      "metadata": {
        "id": "6bDIR8ZIiI3R",
        "colab_type": "code",
        "outputId": "d03d6346-3189-4e44-87e9-41c366ae845b",
        "colab": {
          "base_uri": "https://localhost:8080/",
          "height": 34
        }
      },
      "source": [
        "pg_characters[0]"
      ],
      "execution_count": 0,
      "outputs": [
        {
          "output_type": "execute_result",
          "data": {
            "text/plain": [
              "(1, 'Aliquid iste optio reiciendi', 0, 0, 10, 1, 1, 1, 1)"
            ]
          },
          "metadata": {
            "tags": []
          },
          "execution_count": 37
        }
      ]
    },
    {
      "cell_type": "code",
      "metadata": {
        "id": "0omMquoEiKBK",
        "colab_type": "code",
        "outputId": "e57e2c83-4c5f-46fc-f6d6-b04440449bf5",
        "colab": {
          "base_uri": "https://localhost:8080/",
          "height": 34
        }
      },
      "source": [
        "pg_characters[-1]"
      ],
      "execution_count": 0,
      "outputs": [
        {
          "output_type": "execute_result",
          "data": {
            "text/plain": [
              "(302, 'Aliquam n', 0, 0, 10, 1, 1, 1, 1)"
            ]
          },
          "metadata": {
            "tags": []
          },
          "execution_count": 38
        }
      ]
    },
    {
      "cell_type": "code",
      "metadata": {
        "id": "qeVkKdXJiK4k",
        "colab_type": "code",
        "outputId": "a4da10a7-0e4e-4b5e-ad1d-f208847629ab",
        "colab": {
          "base_uri": "https://localhost:8080/",
          "height": 34
        }
      },
      "source": [
        "len(characters)"
      ],
      "execution_count": 0,
      "outputs": [
        {
          "output_type": "execute_result",
          "data": {
            "text/plain": [
              "302"
            ]
          },
          "metadata": {
            "tags": []
          },
          "execution_count": 39
        }
      ]
    },
    {
      "cell_type": "code",
      "metadata": {
        "id": "LCntsvOMiaG9",
        "colab_type": "code",
        "colab": {}
      },
      "source": [
        "for character, pg_character in zip(characters, pg_characters):\n",
        "  assert character == pg_character"
      ],
      "execution_count": 0,
      "outputs": []
    },
    {
      "cell_type": "code",
      "metadata": {
        "id": "NKaeIft4iiL9",
        "colab_type": "code",
        "colab": {}
      },
      "source": [
        "# Nothing happened! That means the assert was always happy, and they're all the same!"
      ],
      "execution_count": 0,
      "outputs": []
    }
  ]
}